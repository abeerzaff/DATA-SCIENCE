{
 "cells": [
  {
   "cell_type": "code",
   "execution_count": 1,
   "id": "b314d517-68d8-4419-b137-e3b4f7a1faae",
   "metadata": {},
   "outputs": [
    {
     "name": "stdout",
     "output_type": "stream",
     "text": [
      "Valid Orders: [{'customer': 'Alice', 'total': 250.5}, {'customer': 'Charlie', 'total': 450}, {'customer': 'Daisy', 'total': 100.0}]\n",
      "Discounted Orders: [{'customer': 'Alice', 'total': 250.5}, {'customer': 'Charlie', 'total': 405.0}, {'customer': 'Daisy', 'total': 100.0}]\n",
      "Total Sales: 755.5\n"
     ]
    }
   ],
   "source": [
    "from functools import reduce\n",
    "\n",
    "def validate(orders):\n",
    "    def is_valid_order(order):\n",
    "        try:\n",
    "            total = float(order[\"total\"])\n",
    "            return total >= 0\n",
    "        except (ValueError, TypeError):\n",
    "            return False\n",
    "    return list(filter(lambda order: is_valid_order(order), orders))\n",
    "\n",
    "def discount(orders):\n",
    "    return list(map(lambda order: {**order, \"total\": order[\"total\"] * 0.9} if order[\"total\"] > 300 else order, orders))\n",
    "\n",
    "def total_s(orders):\n",
    "    return reduce(lambda acc, order: acc + order[\"total\"], orders, 0)\n",
    "\n",
    "orders = [\n",
    "    {\"customer\": \"Alice\", \"total\": 250.5},\n",
    "    {\"customer\": \"Bob\", \"total\": \"invalid_data\"},\n",
    "    {\"customer\": \"Charlie\", \"total\": 450},\n",
    "    {\"customer\": \"Daisy\", \"total\": 100.0},\n",
    "    {\"customer\": \"Eve\", \"total\": -30},\n",
    "]\n",
    "\n",
    "validorders = validate(orders)\n",
    "print(\"Valid Orders:\", validorders)\n",
    "\n",
    "disc_orders = discount(validorders)\n",
    "print(\"Discounted Orders:\", disc_orders)\n",
    "\n",
    "total = total_s(disc_orders)\n",
    "print(\"Total Sales:\", total)\n"
   ]
  },
  {
   "cell_type": "code",
   "execution_count": 2,
   "id": "ccda18b9-4e22-4bea-9ad6-c31556850847",
   "metadata": {},
   "outputs": [],
   "source": [
    "\n",
    "class SquareIterator:\n",
    "    def __init__(self, n):\n",
    "        self.n = n\n",
    "        self.current = 1\n",
    "    \n",
    "    def __iter__(self):\n",
    "        return self\n",
    "    \n",
    "    def __next__(self):\n",
    "        if self.current <= self.n:\n",
    "            result = self.current ** 2\n",
    "            self.current += 1\n",
    "            return result\n",
    "        else:\n",
    "            raise StopIteration\n",
    "def fibonacci_generator(n):\n",
    "    a, b = 0, 1\n",
    "    while a <= n:\n",
    "        yield a\n",
    "        a, b = b, a + b"
   ]
  },
  {
   "cell_type": "code",
   "execution_count": null,
   "id": "4e9608c1-155d-431d-916c-d2e43e74b653",
   "metadata": {},
   "outputs": [],
   "source": [
    "import functools\n",
    "def exception_l(func):\n",
    "    @functools.wraps(func)\n",
    "    def wrapper(*args, **kwargs):\n",
    "        try:\n",
    "            return func(*args, **kwargs)\n",
    "        except Exception as e:\n",
    "            print(f\"Exception in  '{func.__name__}'\")\n",
    "            print(f\"Type: {type(e).__name__}\")\n",
    "            print(f\"Message: {e}\")\n",
    "            raise  \n",
    "    return wrapper\n",
    "\n",
    "\n",
    "@exception_l\n",
    "def process_data(data):\n",
    "    for i in data:\n",
    "        if not isinstance(i, int):\n",
    "            raise ValueError(f\"Non-integer: {i}\")\n",
    "    return [i * 2 for i in data]\n",
    "\n",
    "\n",
    "try:\n",
    "    process_data([1, 2, 'three', 4])\n",
    "except Exception:\n",
    "    pass \n"
   ]
  }
 ],
 "metadata": {
  "kernelspec": {
   "display_name": "Python 3 (ipykernel)",
   "language": "python",
   "name": "python3"
  },
  "language_info": {
   "codemirror_mode": {
    "name": "ipython",
    "version": 3
   },
   "file_extension": ".py",
   "mimetype": "text/x-python",
   "name": "python",
   "nbconvert_exporter": "python",
   "pygments_lexer": "ipython3",
   "version": "3.11.2"
  }
 },
 "nbformat": 4,
 "nbformat_minor": 5
}
