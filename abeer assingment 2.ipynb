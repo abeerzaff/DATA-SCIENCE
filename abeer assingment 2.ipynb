{
 "cells": [
  {
   "cell_type": "code",
   "execution_count": 14,
   "id": "dc5b1f5e-a2e3-456a-a293-2343918fb57e",
   "metadata": {},
   "outputs": [
    {
     "name": "stdout",
     "output_type": "stream",
     "text": [
      "['Sana', 'Fatima', 'Hassan', 'Ali', 'Khadija', 'Usman']\n",
      "[(12, 'Usman', 50, 'Canada'), (11, 'Khadija', 42, 'USA'), (7, 'Sara', 40, 'Mexico'), (6, 'Hassan', 36, 'USA'), (2, 'Sana', 35, 'Canada'), (4, 'Fatima', 32, 'Canada'), (8, 'Ali', 31, 'USA'), (9, 'Ayesha', 29, 'Canada'), (1, 'Ahmed', 28, 'Pakistan'), (10, 'Daniyal', 27, 'Pakistan')]\n",
      "set()\n"
     ]
    }
   ],
   "source": [
    "\n",
    "users = [\n",
    "    (1, 'Ahmed', 28, 'Pakistan'), (2, 'Sana', 35, 'Canada'), (3, 'Bilal', 22, 'UK'),\n",
    "    (4, 'Fatima', 32, 'Canada'), (5, 'Zain', 25, 'Pakistan'), (6, 'Hassan', 36, 'USA'),\n",
    "    (7, 'Sara', 40, 'Mexico'), (8, 'Ali', 31, 'USA'), (9, 'Ayesha', 29, 'Canada'),\n",
    "    (10, 'Daniyal', 27, 'Pakistan'), (11, 'Khadija', 42, 'USA'), (12, 'Usman', 50, 'Canada'),\n",
    "]\n",
    "\n",
    "def user(u_list):\n",
    "    return [u[1] for u in u_list if u[2] > 30 and u[3] in ('USA', 'Canada')]\n",
    "\n",
    "def top_oldest(u_list):\n",
    "    return sorted(u_list, key=lambda x: x[2], reverse=True)[:10]\n",
    "\n",
    "def f_duplicates(u_list):\n",
    "    names = [u[1] for u in u_list]\n",
    "    return {name for name in names if names.count(name) > 1}\n",
    "\n",
    "filtered = user(users)\n",
    "oldest = top_oldest(users)\n",
    "duplicates = f_duplicates(users)\n",
    "\n",
    "print(filtered)\n",
    "print(oldest)\n",
    "print(duplicates)\n",
    "\n",
    "\n"
   ]
  },
  {
   "cell_type": "code",
   "execution_count": 16,
   "id": "8b4e5498-e06a-40af-a837-de821d9cfa96",
   "metadata": {},
   "outputs": [
    {
     "name": "stdout",
     "output_type": "stream",
     "text": [
      "4\n",
      "(1006, 2, 450.25, '2024-10-07')\n",
      "[1001, 1002, 1003, 1004, 1005, 1006]\n",
      "[1, 2, 3, 1, 4, 2]\n"
     ]
    }
   ],
   "source": [
    "trans = [\n",
    "    (1001, 1, 150.75, '2024-10-01'), (1002, 2, 250.00, '2024-10-02'),\n",
    "    (1003, 3, 99.99, '2024-10-03'), (1004, 1, 175.50, '2024-10-05'),\n",
    "    (1005, 4, 300.00, '2024-10-06'), (1006, 2, 450.25, '2024-10-07'),\n",
    "]\n",
    "\n",
    "def count(t_list):\n",
    "    return len({t[1] for t in t_list})\n",
    "\n",
    "def highest_trans(t_list):\n",
    "    return max(t_list, key=lambda x: x[2])\n",
    "\n",
    "def split(t_list):\n",
    "    return [t[0] for t in t_list], [t[1] for t in t_list]\n",
    "\n",
    "unique_count = count(trans)\n",
    "highest = highest_trans(trans)\n",
    "trans_ids, user_ids = split(trans)\n",
    "\n",
    "print(unique_count)\n",
    "print(highest)\n",
    "print(trans_ids)\n",
    "print(user_ids)\n",
    "\n",
    "\n",
    "\n"
   ]
  },
  {
   "cell_type": "code",
   "execution_count": 10,
   "id": "146cf084-c6eb-4501-a0d1-ccfeef701493",
   "metadata": {},
   "outputs": [
    {
     "name": "stdout",
     "output_type": "stream",
     "text": [
      "{4, 5}\n",
      "{1, 2, 3, 4, 6, 8, 9}\n",
      "{1, 2, 3, 4, 5, 10, 11}\n",
      "{6, 7}\n"
     ]
    }
   ],
   "source": [
    "page_A = {1, 2, 3, 4, 5}\n",
    "page_B = {4, 5, 6, 7}\n",
    "page_C = {5, 6, 8, 9}\n",
    "\n",
    "def common_A_B(s1, s2):\n",
    "    return s1 & s2\n",
    "\n",
    "def either_A_C(s1, s2):\n",
    "    return s1 ^ s2\n",
    "\n",
    "def update_A(s1, new_users):\n",
    "    s1.update(new_users)\n",
    "\n",
    "def remove_from_B(s2, to_remove):\n",
    "    s2.difference_update(to_remove)\n",
    "\n",
    "ab_common = common_A_B(page_A, page_B)\n",
    "ac_either = either_A_C(page_A, page_C)\n",
    "update_A(page_A, {10, 11})\n",
    "remove_from_B(page_B, [4, 5])\n",
    "\n",
    "print(ab_common)\n",
    "print(ac_either)\n",
    "print(page_A)\n",
    "print(page_B)\n",
    "\n"
   ]
  },
  {
   "cell_type": "code",
   "execution_count": 11,
   "id": "7f3a9ef8-89f2-46ca-8bd0-47b26869d11c",
   "metadata": {},
   "outputs": [
    {
     "name": "stdout",
     "output_type": "stream",
     "text": [
      "{1: 5, 3: 4, 5: 5}\n",
      "[(1, {'rating': 5, 'comments': 'Great service!'}), (5, {'rating': 5, 'comments': 'Excellent!'}), (3, {'rating': 4, 'comments': 'Good experience.'}), (2, {'rating': 3, 'comments': 'Okay, but needs improvement.'}), (4, {'rating': 2, 'comments': 'Not satisfied.'})]\n",
      "{1: {'rating': 5, 'comments': 'Great service!'}, 2: {'rating': 4, 'comments': 'Okay, but needs improvement. Improved!'}, 3: {'rating': 4, 'comments': 'Good experience.'}, 4: {'rating': 2, 'comments': 'Not satisfied.'}, 5: {'rating': 5, 'comments': 'Excellent!'}}\n",
      "{1: 5, 3: 4, 5: 5}\n"
     ]
    }
   ],
   "source": [
    "feedback = {\n",
    "    1: {'rating': 5, 'comments': 'Great service!'},\n",
    "    2: {'rating': 3, 'comments': 'Okay, but needs improvement.'},\n",
    "    3: {'rating': 4, 'comments': 'Good experience.'},\n",
    "    4: {'rating': 2, 'comments': 'Not satisfied.'},\n",
    "    5: {'rating': 5, 'comments': 'Excellent!'}\n",
    "}\n",
    "\n",
    "def high_ratings(f_dict):\n",
    "    return {u: d['rating'] for u, d in f_dict.items() if d['rating'] >= 4}\n",
    "\n",
    "def top_5(f_dict):\n",
    "    return sorted(f_dict.items(), key=lambda x: x[1]['rating'], reverse=True)[:5]\n",
    "\n",
    "def combine(f_list):\n",
    "    combined = {}\n",
    "    for f in f_list:\n",
    "        for u, d in f.items():\n",
    "            if u in combined:\n",
    "                combined[u]['rating'] = max(combined[u]['rating'], d['rating'])\n",
    "                combined[u]['comments'] += \" \" + d['comments']\n",
    "            else:\n",
    "                combined[u] = d.copy()\n",
    "    return combined\n",
    "\n",
    "def ratings_above_3(f_dict):\n",
    "    return {u: d['rating'] for u, d in f_dict.items() if d['rating'] > 3}\n",
    "\n",
    "high = high_ratings(feedback)\n",
    "top5 = top_5(feedback)\n",
    "combined = combine([feedback, {2: {'rating': 4, 'comments': 'Improved!'}}])\n",
    "above_3 = ratings_above_3(feedback)\n",
    "\n",
    "print(high)\n",
    "print(top5)\n",
    "print(combined)\n",
    "print(above_3)\n",
    "\n",
    "\n",
    "\n",
    "\n"
   ]
  },
  {
   "cell_type": "code",
   "execution_count": null,
   "id": "4ab4c2ac-a882-41c7-948b-75c5705ef78c",
   "metadata": {},
   "outputs": [],
   "source": []
  }
 ],
 "metadata": {
  "kernelspec": {
   "display_name": "Python 3 (ipykernel)",
   "language": "python",
   "name": "python3"
  },
  "language_info": {
   "codemirror_mode": {
    "name": "ipython",
    "version": 3
   },
   "file_extension": ".py",
   "mimetype": "text/x-python",
   "name": "python",
   "nbconvert_exporter": "python",
   "pygments_lexer": "ipython3",
   "version": "3.11.2"
  }
 },
 "nbformat": 4,
 "nbformat_minor": 5
}
